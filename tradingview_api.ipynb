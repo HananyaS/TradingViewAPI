{
 "cells": [
  {
   "cell_type": "code",
   "execution_count": 1,
   "metadata": {},
   "outputs": [],
   "source": [
    "import pandas as pd\n",
    "from tradingview_screener import Query, Column"
   ]
  },
  {
   "cell_type": "markdown",
   "metadata": {},
   "source": [
    "**Search All Fields AT ||**\n",
    "https://shner-elmo.github.io/TradingView-Screener/fields/stocks.html"
   ]
  },
  {
   "cell_type": "code",
   "execution_count": 4,
   "metadata": {},
   "outputs": [
    {
     "data": {
      "text/html": [
       "<div>\n",
       "<style scoped>\n",
       "    .dataframe tbody tr th:only-of-type {\n",
       "        vertical-align: middle;\n",
       "    }\n",
       "\n",
       "    .dataframe tbody tr th {\n",
       "        vertical-align: top;\n",
       "    }\n",
       "\n",
       "    .dataframe thead th {\n",
       "        text-align: right;\n",
       "    }\n",
       "</style>\n",
       "<table border=\"1\" class=\"dataframe\">\n",
       "  <thead>\n",
       "    <tr style=\"text-align: right;\">\n",
       "      <th></th>\n",
       "      <th>ticker</th>\n",
       "      <th>name</th>\n",
       "      <th>ATR</th>\n",
       "      <th>close</th>\n",
       "      <th>volume</th>\n",
       "      <th>exchange</th>\n",
       "      <th>SMA20</th>\n",
       "      <th>relative_volume</th>\n",
       "      <th>change</th>\n",
       "      <th>market_cap_basic</th>\n",
       "      <th>Candle.Hammer</th>\n",
       "      <th>Candle.Engulfing.Bullish</th>\n",
       "      <th>Candle.Doji</th>\n",
       "      <th>Candle.Marubozu.White</th>\n",
       "      <th>ATR%</th>\n",
       "    </tr>\n",
       "  </thead>\n",
       "  <tbody>\n",
       "    <tr>\n",
       "      <th>9</th>\n",
       "      <td>NASDAQ:AZI</td>\n",
       "      <td>AZI</td>\n",
       "      <td>0.055242</td>\n",
       "      <td>0.2308</td>\n",
       "      <td>1276205</td>\n",
       "      <td>NASDAQ</td>\n",
       "      <td>0.329865</td>\n",
       "      <td>1.732891</td>\n",
       "      <td>13.638602</td>\n",
       "      <td>24229660.96</td>\n",
       "      <td>0</td>\n",
       "      <td>1</td>\n",
       "      <td>0</td>\n",
       "      <td>0</td>\n",
       "      <td>23.935024</td>\n",
       "    </tr>\n",
       "  </tbody>\n",
       "</table>\n",
       "</div>"
      ],
      "text/plain": [
       "       ticker name       ATR   close   volume exchange     SMA20  \\\n",
       "9  NASDAQ:AZI  AZI  0.055242  0.2308  1276205   NASDAQ  0.329865   \n",
       "\n",
       "   relative_volume     change  market_cap_basic  Candle.Hammer  \\\n",
       "9         1.732891  13.638602       24229660.96              0   \n",
       "\n",
       "   Candle.Engulfing.Bullish  Candle.Doji  Candle.Marubozu.White       ATR%  \n",
       "9                         1            0                      0  23.935024  "
      ]
     },
     "execution_count": 4,
     "metadata": {},
     "output_type": "execute_result"
    }
   ],
   "source": [
    "query_results_cnt, query_results_pd = Query().select(\n",
    "    'name', 'ATR', 'close', 'volume', 'exchange', 'SMA20', 'relative_volume', 'change', 'market_cap_basic',\n",
    "    'Candle.Hammer', 'Candle.Engulfing.Bullish', 'Candle.Doji', 'Candle.Marubozu.White',\n",
    "    ).where(\n",
    "        Column('exchange') == 'NASDAQ',\n",
    "        Column('relative_volume') > 1.5,\n",
    "        Column('change') > 0.05,\n",
    "        Column('SMA20').above_pct('close', 1.1),\n",
    "    ).order_by(\n",
    "        'market_cap_basic',\n",
    "        ascending=False\n",
    ").get_scanner_data()\n",
    "\n",
    "query_results_pd['ATR%'] = query_results_pd['ATR'] / query_results_pd['close'] * 100\n",
    "query_results_pd = query_results_pd[\n",
    "    (query_results_pd['ATR%'] > 5) &\n",
    "    (\n",
    "        query_results_pd['Candle.Hammer'] |\n",
    "        query_results_pd['Candle.Engulfing.Bullish'] |\n",
    "        query_results_pd['Candle.Doji'] |\n",
    "        query_results_pd['Candle.Marubozu.White']\n",
    "    )\n",
    "]\n",
    "\n",
    "query_results_pd"
   ]
  },
  {
   "cell_type": "code",
   "execution_count": 11,
   "metadata": {},
   "outputs": [
    {
     "data": {
      "text/plain": [
       "'20250703'"
      ]
     },
     "execution_count": 11,
     "metadata": {},
     "output_type": "execute_result"
    }
   ],
   "source": [
    "import datetime\n",
    "\n",
    "datetime.datetime.today().strftime('%Y%m%d')"
   ]
  }
 ],
 "metadata": {
  "kernelspec": {
   "display_name": "TRV",
   "language": "python",
   "name": "trv"
  },
  "language_info": {
   "codemirror_mode": {
    "name": "ipython",
    "version": 3
   },
   "file_extension": ".py",
   "mimetype": "text/x-python",
   "name": "python",
   "nbconvert_exporter": "python",
   "pygments_lexer": "ipython3",
   "version": "3.13.5"
  }
 },
 "nbformat": 4,
 "nbformat_minor": 2
}
